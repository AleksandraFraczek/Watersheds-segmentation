{
  "nbformat": 4,
  "nbformat_minor": 0,
  "metadata": {
    "colab": {
      "name": "Segmentation_of_watersheds",
      "provenance": [],
      "collapsed_sections": []
    },
    "kernelspec": {
      "name": "python3",
      "display_name": "Python 3"
    },
    "language_info": {
      "name": "python"
    },
    "accelerator": "GPU"
  },
  "cells": [
    {
      "cell_type": "code",
      "execution_count": null,
      "metadata": {
        "id": "F7soFQeQUIOP",
        "colab": {
          "base_uri": "https://localhost:8080/"
        },
        "outputId": "6eeb343e-debb-4b57-d610-3df84d00c2b3"
      },
      "outputs": [
        {
          "output_type": "stream",
          "name": "stdout",
          "text": [
            "Requirement already satisfied: kaggle in /usr/local/lib/python3.7/dist-packages (1.5.12)\n",
            "Requirement already satisfied: six>=1.10 in /usr/local/lib/python3.7/dist-packages (from kaggle) (1.15.0)\n",
            "Requirement already satisfied: urllib3 in /usr/local/lib/python3.7/dist-packages (from kaggle) (1.24.3)\n",
            "Requirement already satisfied: tqdm in /usr/local/lib/python3.7/dist-packages (from kaggle) (4.62.3)\n",
            "Requirement already satisfied: python-slugify in /usr/local/lib/python3.7/dist-packages (from kaggle) (5.0.2)\n",
            "Requirement already satisfied: certifi in /usr/local/lib/python3.7/dist-packages (from kaggle) (2021.10.8)\n",
            "Requirement already satisfied: python-dateutil in /usr/local/lib/python3.7/dist-packages (from kaggle) (2.8.2)\n",
            "Requirement already satisfied: requests in /usr/local/lib/python3.7/dist-packages (from kaggle) (2.23.0)\n",
            "Requirement already satisfied: text-unidecode>=1.3 in /usr/local/lib/python3.7/dist-packages (from python-slugify->kaggle) (1.3)\n",
            "Requirement already satisfied: chardet<4,>=3.0.2 in /usr/local/lib/python3.7/dist-packages (from requests->kaggle) (3.0.4)\n",
            "Requirement already satisfied: idna<3,>=2.5 in /usr/local/lib/python3.7/dist-packages (from requests->kaggle) (2.10)\n"
          ]
        }
      ],
      "source": [
        "! pip install kaggle"
      ]
    },
    {
      "cell_type": "code",
      "source": [
        "! mkdir ~/.kaggle"
      ],
      "metadata": {
        "id": "-25HZyB-UlHA",
        "colab": {
          "base_uri": "https://localhost:8080/"
        },
        "outputId": "24dac977-e252-4453-dad4-34f46e832d3f"
      },
      "execution_count": null,
      "outputs": [
        {
          "output_type": "stream",
          "name": "stdout",
          "text": [
            "mkdir: cannot create directory ‘/root/.kaggle’: File exists\n"
          ]
        }
      ]
    },
    {
      "cell_type": "code",
      "source": [
        "! cp kaggle.json ~/.kaggle/"
      ],
      "metadata": {
        "id": "mbKI16z6VmM2"
      },
      "execution_count": null,
      "outputs": []
    },
    {
      "cell_type": "code",
      "source": [
        "! chmod 600 ~/.kaggle/kaggle.json"
      ],
      "metadata": {
        "id": "jPybMYUFVph8"
      },
      "execution_count": null,
      "outputs": []
    },
    {
      "cell_type": "code",
      "source": [
        "! kaggle datasets download franciscoescobar/satellite-images-of-water-bodies"
      ],
      "metadata": {
        "id": "_fjt8kh8Vquq",
        "colab": {
          "base_uri": "https://localhost:8080/"
        },
        "outputId": "0723baa9-5202-449a-d84a-63699ec85595"
      },
      "execution_count": null,
      "outputs": [
        {
          "output_type": "stream",
          "name": "stdout",
          "text": [
            "satellite-images-of-water-bodies.zip: Skipping, found more recently modified local copy (use --force to force download)\n"
          ]
        }
      ]
    },
    {
      "cell_type": "code",
      "source": [
        "! unzip satellite-images-of-water-bodies.zip"
      ],
      "metadata": {
        "id": "71wsTPIYV0NA",
        "colab": {
          "base_uri": "https://localhost:8080/"
        },
        "outputId": "a7ce80a2-29fc-43a2-b915-bcee11bbcfbc"
      },
      "execution_count": null,
      "outputs": [
        {
          "output_type": "stream",
          "name": "stdout",
          "text": [
            "Archive:  satellite-images-of-water-bodies.zip\n",
            "replace Water Bodies Dataset/Images/water_body_1.jpg? [y]es, [n]o, [A]ll, [N]one, [r]ename: N\n"
          ]
        }
      ]
    },
    {
      "cell_type": "code",
      "source": [
        "import os\n",
        "import glob\n",
        "import tensorflow as tf\n",
        "import matplotlib.pyplot as plt\n",
        "import numpy as np\n",
        "import tensorflow.keras as keras\n",
        "from tensorflow.keras.models import *\n",
        "from tensorflow.keras.layers import *\n",
        "from tensorflow.keras.optimizers import *\n",
        "from tensorflow.keras.utils import plot_model\n",
        "from pathlib import Path\n",
        "import cv2\n",
        "import sklearn\n",
        "from sklearn.model_selection import train_test_split\n",
        "from tensorflow.keras.callbacks import EarlyStopping ,ReduceLROnPlateau ,ModelCheckpoint ,TensorBoard"
      ],
      "metadata": {
        "id": "nKns1P9kWMYm"
      },
      "execution_count": null,
      "outputs": []
    },
    {
      "cell_type": "code",
      "source": [
        "images_dir = Path('/content/Water Bodies Dataset/Images')\n",
        "masks_dir = Path('/content/Water Bodies Dataset/Masks')"
      ],
      "metadata": {
        "id": "n0EnEw_YWGlz"
      },
      "execution_count": null,
      "outputs": []
    },
    {
      "cell_type": "code",
      "source": [
        "x_train = []\n",
        "y_train = []\n",
        "\n",
        "for filename in os.listdir(images_dir):\n",
        "    img = cv2.imread(os.path.join(images_dir,filename))\n",
        "    img = cv2.cvtColor(img,cv2.COLOR_BGR2RGB)\n",
        "    img = cv2.resize(img,(256,256))\n",
        "    x_train.append(img)\n",
        "\n",
        "for filename in os.listdir(masks_dir):\n",
        "    img = cv2.imread(os.path.join(masks_dir,filename))    \n",
        "    img = cv2.cvtColor(img,cv2.COLOR_BGR2GRAY)\n",
        "    img = cv2.resize(img,(256,256))\n",
        "    y_train.append(list(img))\n",
        "\n",
        "x_train = np.array(x_train)\n",
        "y_train = np.array(y_train,dtype=np.bool)"
      ],
      "metadata": {
        "id": "_SzNpjjerIQi"
      },
      "execution_count": null,
      "outputs": []
    },
    {
      "cell_type": "code",
      "source": [
        "for n , i in enumerate(list(np.random.randint(0,len(x_train),8))) :\n",
        "  figure,ax = plt.subplots(1,2,figsize=(10,10))\n",
        "  ax[0].imshow(x_train[i])\n",
        "  ax[1].imshow(y_train[i], cmap='gray')\n",
        "  ax[0].set_title(\"Sattelite image\")\n",
        "  ax[1].set_title(\"Water mask\")"
      ],
      "metadata": {
        "id": "74dl-ZNWuxZh"
      },
      "execution_count": null,
      "outputs": []
    },
    {
      "cell_type": "code",
      "source": [
        "X_train, X_test, Y_train, Y_test = train_test_split(x_train, y_train, test_size=0.1, random_state=42)"
      ],
      "metadata": {
        "id": "eU3ahTgXeLUP"
      },
      "execution_count": null,
      "outputs": []
    },
    {
      "cell_type": "code",
      "source": [
        "X_test.shape"
      ],
      "metadata": {
        "colab": {
          "base_uri": "https://localhost:8080/"
        },
        "id": "SkC1Izthe2q2",
        "outputId": "0e21d272-626a-4caf-ba57-b932fdb7c28e"
      },
      "execution_count": null,
      "outputs": [
        {
          "output_type": "execute_result",
          "data": {
            "text/plain": [
              "(285, 256, 256, 3)"
            ]
          },
          "metadata": {},
          "execution_count": 61
        }
      ]
    },
    {
      "cell_type": "code",
      "source": [
        "X_train.shape"
      ],
      "metadata": {
        "colab": {
          "base_uri": "https://localhost:8080/"
        },
        "id": "tLQC-MOC75VT",
        "outputId": "003dac4e-a363-4b83-f7d5-2771edc0e960"
      },
      "execution_count": null,
      "outputs": [
        {
          "output_type": "execute_result",
          "data": {
            "text/plain": [
              "(2556, 256, 256, 3)"
            ]
          },
          "metadata": {},
          "execution_count": 63
        }
      ]
    },
    {
      "cell_type": "code",
      "source": [
        "def unet(input_size = (256,256,3)):\n",
        "    inputs = tf.keras.layers.Input(input_size)\n",
        "    s = tf.keras.layers.Lambda(lambda x: x / 255)(inputs)\n",
        "\n",
        "    c1 = tf.keras.layers.Conv2D(16, (3, 3), activation='relu', kernel_initializer='he_normal', padding='same')(s)\n",
        "    c1 = tf.keras.layers.Dropout(0.1)(c1)\n",
        "    c1 = tf.keras.layers.Conv2D(16, (3, 3), activation='relu', kernel_initializer='he_normal', padding='same')(c1)\n",
        "    p1 = tf.keras.layers.MaxPooling2D((2, 2))(c1)\n",
        "\n",
        "    c2 = tf.keras.layers.Conv2D(32, (3, 3), activation='relu', kernel_initializer='he_normal', padding='same')(p1)\n",
        "    c2 = tf.keras.layers.Dropout(0.1)(c2)\n",
        "    c2 = tf.keras.layers.Conv2D(32, (3, 3), activation='relu', kernel_initializer='he_normal', padding='same')(c2)\n",
        "    p2 = tf.keras.layers.MaxPooling2D((2, 2))(c2)\n",
        "\n",
        "    c3 = tf.keras.layers.Conv2D(64, (3, 3), activation='relu', kernel_initializer='he_normal', padding='same')(p2)\n",
        "    c3 = tf.keras.layers.Dropout(0.2)(c3)\n",
        "    c3 = tf.keras.layers.Conv2D(64, (3, 3), activation='relu', kernel_initializer='he_normal', padding='same')(c3)\n",
        "    p3 = tf.keras.layers.MaxPooling2D((2, 2))(c3)\n",
        "\n",
        "    c4 = tf.keras.layers.Conv2D(128, (3, 3), activation='relu', kernel_initializer='he_normal', padding='same')(p3)\n",
        "    c4 = tf.keras.layers.Dropout(0.2)(c4)\n",
        "    c4 = tf.keras.layers.Conv2D(128, (3, 3), activation='relu', kernel_initializer='he_normal', padding='same')(c4)\n",
        "    p4 = tf.keras.layers.MaxPooling2D(pool_size=(2, 2))(c4)\n",
        "\n",
        "    c5 = tf.keras.layers.Conv2D(256, (3, 3), activation='relu', kernel_initializer='he_normal', padding='same')(p4)\n",
        "    c5 = tf.keras.layers.Dropout(0.3)(c5)\n",
        "    c5 = tf.keras.layers.Conv2D(256, (3, 3), activation='relu', kernel_initializer='he_normal', padding='same')(c5)\n",
        "    \n",
        "    u6 = tf.keras.layers.Conv2DTranspose(128, (2, 2), strides=(2, 2), padding='same')(c5)\n",
        "    u6 = tf.keras.layers.concatenate([u6, c4])\n",
        "    c6 = tf.keras.layers.Conv2D(128, (3, 3), activation='relu', kernel_initializer='he_normal', padding='same')(u6)\n",
        "    c6 = tf.keras.layers.Dropout(0.2)(c6)\n",
        "    c6 = tf.keras.layers.Conv2D(128, (3, 3), activation='relu', kernel_initializer='he_normal', padding='same')(c6)\n",
        "\n",
        "    u7 = tf.keras.layers.Conv2DTranspose(64, (2, 2), strides=(2, 2), padding='same')(c6)\n",
        "    u7 = tf.keras.layers.concatenate([u7, c3])\n",
        "    c7 = tf.keras.layers.Conv2D(64, (3, 3), activation='relu', kernel_initializer='he_normal', padding='same')(u7)\n",
        "    c7 = tf.keras.layers.Dropout(0.2)(c7)\n",
        "    c7 = tf.keras.layers.Conv2D(64, (3, 3), activation='relu', kernel_initializer='he_normal', padding='same')(c7)\n",
        "\n",
        "    u8 = tf.keras.layers.Conv2DTranspose(32, (2, 2), strides=(2, 2), padding='same')(c7)\n",
        "    u8 = tf.keras.layers.concatenate([u8, c2])\n",
        "    c8 = tf.keras.layers.Conv2D(32, (3, 3), activation='relu', kernel_initializer='he_normal', padding='same')(u8)\n",
        "    c8 = tf.keras.layers.Dropout(0.1)(c8)\n",
        "    c8 = tf.keras.layers.Conv2D(32, (3, 3), activation='relu', kernel_initializer='he_normal', padding='same')(c8)\n",
        "\n",
        "    u9 = tf.keras.layers.Conv2DTranspose(16, (2, 2), strides=(2, 2), padding='same')(c8)\n",
        "    u9 = tf.keras.layers.concatenate([u9, c1], axis=3)\n",
        "    c9 = tf.keras.layers.Conv2D(16, (3, 3), activation='relu', kernel_initializer='he_normal', padding='same')(u9)\n",
        "    c9 = tf.keras.layers.Dropout(0.1)(c9)\n",
        "    c9 = tf.keras.layers.Conv2D(16, (3, 3), activation='relu', kernel_initializer='he_normal', padding='same')(c9)\n",
        "\n",
        "    outputs = tf.keras.layers.Conv2D(1, (1, 1), activation='sigmoid')(c9)\n",
        "\n",
        "    model = tf.keras.Model(inputs=[inputs], outputs=[outputs])\n",
        "    return model"
      ],
      "metadata": {
        "id": "XSJCmZaonHXs"
      },
      "execution_count": null,
      "outputs": []
    },
    {
      "cell_type": "code",
      "source": [
        "UNet = unet(input_size=(256,256,3))"
      ],
      "metadata": {
        "id": "Hk1K0QDgoIML"
      },
      "execution_count": null,
      "outputs": []
    },
    {
      "cell_type": "code",
      "source": [
        "UNet.summary()"
      ],
      "metadata": {
        "colab": {
          "base_uri": "https://localhost:8080/"
        },
        "id": "2RDBbP8LoUiV",
        "outputId": "93cfec90-7140-4915-e339-22b36e10e3e9"
      },
      "execution_count": null,
      "outputs": [
        {
          "output_type": "stream",
          "name": "stdout",
          "text": [
            "Model: \"model_1\"\n",
            "__________________________________________________________________________________________________\n",
            " Layer (type)                   Output Shape         Param #     Connected to                     \n",
            "==================================================================================================\n",
            " input_2 (InputLayer)           [(None, 256, 256, 3  0           []                               \n",
            "                                )]                                                                \n",
            "                                                                                                  \n",
            " lambda_1 (Lambda)              (None, 256, 256, 3)  0           ['input_2[0][0]']                \n",
            "                                                                                                  \n",
            " conv2d_19 (Conv2D)             (None, 256, 256, 16  448         ['lambda_1[0][0]']               \n",
            "                                )                                                                 \n",
            "                                                                                                  \n",
            " dropout_9 (Dropout)            (None, 256, 256, 16  0           ['conv2d_19[0][0]']              \n",
            "                                )                                                                 \n",
            "                                                                                                  \n",
            " conv2d_20 (Conv2D)             (None, 256, 256, 16  2320        ['dropout_9[0][0]']              \n",
            "                                )                                                                 \n",
            "                                                                                                  \n",
            " max_pooling2d_4 (MaxPooling2D)  (None, 128, 128, 16  0          ['conv2d_20[0][0]']              \n",
            "                                )                                                                 \n",
            "                                                                                                  \n",
            " conv2d_21 (Conv2D)             (None, 128, 128, 32  4640        ['max_pooling2d_4[0][0]']        \n",
            "                                )                                                                 \n",
            "                                                                                                  \n",
            " dropout_10 (Dropout)           (None, 128, 128, 32  0           ['conv2d_21[0][0]']              \n",
            "                                )                                                                 \n",
            "                                                                                                  \n",
            " conv2d_22 (Conv2D)             (None, 128, 128, 32  9248        ['dropout_10[0][0]']             \n",
            "                                )                                                                 \n",
            "                                                                                                  \n",
            " max_pooling2d_5 (MaxPooling2D)  (None, 64, 64, 32)  0           ['conv2d_22[0][0]']              \n",
            "                                                                                                  \n",
            " conv2d_23 (Conv2D)             (None, 64, 64, 64)   18496       ['max_pooling2d_5[0][0]']        \n",
            "                                                                                                  \n",
            " dropout_11 (Dropout)           (None, 64, 64, 64)   0           ['conv2d_23[0][0]']              \n",
            "                                                                                                  \n",
            " conv2d_24 (Conv2D)             (None, 64, 64, 64)   36928       ['dropout_11[0][0]']             \n",
            "                                                                                                  \n",
            " max_pooling2d_6 (MaxPooling2D)  (None, 32, 32, 64)  0           ['conv2d_24[0][0]']              \n",
            "                                                                                                  \n",
            " conv2d_25 (Conv2D)             (None, 32, 32, 128)  73856       ['max_pooling2d_6[0][0]']        \n",
            "                                                                                                  \n",
            " dropout_12 (Dropout)           (None, 32, 32, 128)  0           ['conv2d_25[0][0]']              \n",
            "                                                                                                  \n",
            " conv2d_26 (Conv2D)             (None, 32, 32, 128)  147584      ['dropout_12[0][0]']             \n",
            "                                                                                                  \n",
            " max_pooling2d_7 (MaxPooling2D)  (None, 16, 16, 128)  0          ['conv2d_26[0][0]']              \n",
            "                                                                                                  \n",
            " conv2d_27 (Conv2D)             (None, 16, 16, 256)  295168      ['max_pooling2d_7[0][0]']        \n",
            "                                                                                                  \n",
            " dropout_13 (Dropout)           (None, 16, 16, 256)  0           ['conv2d_27[0][0]']              \n",
            "                                                                                                  \n",
            " conv2d_28 (Conv2D)             (None, 16, 16, 256)  590080      ['dropout_13[0][0]']             \n",
            "                                                                                                  \n",
            " conv2d_transpose_4 (Conv2DTran  (None, 32, 32, 128)  131200     ['conv2d_28[0][0]']              \n",
            " spose)                                                                                           \n",
            "                                                                                                  \n",
            " concatenate_4 (Concatenate)    (None, 32, 32, 256)  0           ['conv2d_transpose_4[0][0]',     \n",
            "                                                                  'conv2d_26[0][0]']              \n",
            "                                                                                                  \n",
            " conv2d_29 (Conv2D)             (None, 32, 32, 128)  295040      ['concatenate_4[0][0]']          \n",
            "                                                                                                  \n",
            " dropout_14 (Dropout)           (None, 32, 32, 128)  0           ['conv2d_29[0][0]']              \n",
            "                                                                                                  \n",
            " conv2d_30 (Conv2D)             (None, 32, 32, 128)  147584      ['dropout_14[0][0]']             \n",
            "                                                                                                  \n",
            " conv2d_transpose_5 (Conv2DTran  (None, 64, 64, 64)  32832       ['conv2d_30[0][0]']              \n",
            " spose)                                                                                           \n",
            "                                                                                                  \n",
            " concatenate_5 (Concatenate)    (None, 64, 64, 128)  0           ['conv2d_transpose_5[0][0]',     \n",
            "                                                                  'conv2d_24[0][0]']              \n",
            "                                                                                                  \n",
            " conv2d_31 (Conv2D)             (None, 64, 64, 64)   73792       ['concatenate_5[0][0]']          \n",
            "                                                                                                  \n",
            " dropout_15 (Dropout)           (None, 64, 64, 64)   0           ['conv2d_31[0][0]']              \n",
            "                                                                                                  \n",
            " conv2d_32 (Conv2D)             (None, 64, 64, 64)   36928       ['dropout_15[0][0]']             \n",
            "                                                                                                  \n",
            " conv2d_transpose_6 (Conv2DTran  (None, 128, 128, 32  8224       ['conv2d_32[0][0]']              \n",
            " spose)                         )                                                                 \n",
            "                                                                                                  \n",
            " concatenate_6 (Concatenate)    (None, 128, 128, 64  0           ['conv2d_transpose_6[0][0]',     \n",
            "                                )                                 'conv2d_22[0][0]']              \n",
            "                                                                                                  \n",
            " conv2d_33 (Conv2D)             (None, 128, 128, 32  18464       ['concatenate_6[0][0]']          \n",
            "                                )                                                                 \n",
            "                                                                                                  \n",
            " dropout_16 (Dropout)           (None, 128, 128, 32  0           ['conv2d_33[0][0]']              \n",
            "                                )                                                                 \n",
            "                                                                                                  \n",
            " conv2d_34 (Conv2D)             (None, 128, 128, 32  9248        ['dropout_16[0][0]']             \n",
            "                                )                                                                 \n",
            "                                                                                                  \n",
            " conv2d_transpose_7 (Conv2DTran  (None, 256, 256, 16  2064       ['conv2d_34[0][0]']              \n",
            " spose)                         )                                                                 \n",
            "                                                                                                  \n",
            " concatenate_7 (Concatenate)    (None, 256, 256, 32  0           ['conv2d_transpose_7[0][0]',     \n",
            "                                )                                 'conv2d_20[0][0]']              \n",
            "                                                                                                  \n",
            " conv2d_35 (Conv2D)             (None, 256, 256, 16  4624        ['concatenate_7[0][0]']          \n",
            "                                )                                                                 \n",
            "                                                                                                  \n",
            " dropout_17 (Dropout)           (None, 256, 256, 16  0           ['conv2d_35[0][0]']              \n",
            "                                )                                                                 \n",
            "                                                                                                  \n",
            " conv2d_36 (Conv2D)             (None, 256, 256, 16  2320        ['dropout_17[0][0]']             \n",
            "                                )                                                                 \n",
            "                                                                                                  \n",
            " conv2d_37 (Conv2D)             (None, 256, 256, 1)  17          ['conv2d_36[0][0]']              \n",
            "                                                                                                  \n",
            "==================================================================================================\n",
            "Total params: 1,941,105\n",
            "Trainable params: 1,941,105\n",
            "Non-trainable params: 0\n",
            "__________________________________________________________________________________________________\n"
          ]
        }
      ]
    },
    {
      "cell_type": "code",
      "source": [
        "optimizer_adam = Adam(learning_rate = 0.001)"
      ],
      "metadata": {
        "id": "QARj3Rvfob4s"
      },
      "execution_count": null,
      "outputs": []
    },
    {
      "cell_type": "code",
      "source": [
        "EarlyStop = EarlyStopping(patience = 10, restore_best_weights = True)\n",
        "Reduce_LR = ReduceLROnPlateau(monitor = 'val_accuracy', verbose = 2, factor = 0.5, min_lr = 0.00001)\n",
        "model_check = ModelCheckpoint('model.hdf5', monitor = 'val_loss', verbose = 1, save_best_only = True)\n",
        "tensorboard = TensorBoard(log_dir = 'logs')\n",
        "callback = [EarlyStop , Reduce_LR, model_check, tensorboard]"
      ],
      "metadata": {
        "id": "ZG_7UV9qxZY3"
      },
      "execution_count": null,
      "outputs": []
    },
    {
      "cell_type": "code",
      "source": [
        "UNet.compile(optimizer = optimizer_adam, loss = 'binary_crossentropy', metrics = ['accuracy'])"
      ],
      "metadata": {
        "id": "yidbEDKRogv3"
      },
      "execution_count": null,
      "outputs": []
    },
    {
      "cell_type": "code",
      "source": [
        "training_history = UNet.fit(X_train, Y_train, validation_split = 0.1 , epochs = 2, batch_size = 16, callbacks = callback, verbose = 1)"
      ],
      "metadata": {
        "id": "gWkA7zWzoqKE"
      },
      "execution_count": null,
      "outputs": []
    },
    {
      "cell_type": "code",
      "source": [
        "loss, accuracy = UNet.evaluate(X_test, Y_test)"
      ],
      "metadata": {
        "id": "ZHlxK4aAglI0"
      },
      "execution_count": null,
      "outputs": []
    },
    {
      "cell_type": "code",
      "source": [
        "test_dir = Path('/content/test4/')\n",
        "\n",
        "for filename in os.listdir(test_dir):\n",
        "    water_test = cv2.imread(os.path.join(test_dir,filename))\n",
        "    water_test_to_RGB = cv2.cvtColor(water_test,cv2.COLOR_BGR2RGB)\n",
        "    water_test_resized = cv2.resize(water_test_to_RGB,(256,256))\n",
        "\n",
        "    water_test_for_prediction = np.expand_dims(water_test_resized, axis=0)\n",
        "    y_pred = UNet.predict(water_test_for_prediction)\n",
        "\n",
        "    predicted_mask = np.squeeze(y_pred)\n",
        "    predicted_mask_binary = (predicted_mask > 0.6).astype(np.uint8)\n",
        "\n",
        "    figure,ax = plt.subplots(1,2,figsize=(10,10))    \n",
        "    ax[0].imshow(water_test_resized)\n",
        "    ax[1].imshow(predicted_mask_binary, cmap='gray')\n",
        "    ax[0].set_title(\"Satellite image\")\n",
        "    ax[1].set_title(\"Predicted mask\")"
      ],
      "metadata": {
        "id": "4nzsMl-82VMN"
      },
      "execution_count": null,
      "outputs": []
    },
    {
      "cell_type": "code",
      "source": [
        "figure,ax = plt.subplots(1,2,figsize=(10,10))    \n",
        "ax[0].imshow(water_test_resized)\n",
        "ax[1].imshow(predicted_mask_binary, cmap='gray')\n",
        "ax[0].set_title(\"Sattelite image\")\n",
        "ax[1].set_title(\"Predicted mask\")"
      ],
      "metadata": {
        "id": "8zriCyao9LxD"
      },
      "execution_count": null,
      "outputs": []
    }
  ]
}